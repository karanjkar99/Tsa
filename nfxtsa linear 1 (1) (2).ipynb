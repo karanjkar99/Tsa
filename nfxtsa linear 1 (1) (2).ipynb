{
 "cells": [
  {
   "cell_type": "code",
   "execution_count": null,
   "metadata": {},
   "outputs": [],
   "source": [
    "import pandas as pd\n",
    "import matplotlib.pyplot as plt\n",
    "import numpy as np\n",
    "nfx = pd.read_csv('NFLX.csv',parse_dates=[\"Date\"])"
   ]
  },
  {
   "cell_type": "code",
   "execution_count": 20,
   "metadata": {},
   "outputs": [
    {
     "data": {
      "text/html": [
       "<div>\n",
       "<style scoped>\n",
       "    .dataframe tbody tr th:only-of-type {\n",
       "        vertical-align: middle;\n",
       "    }\n",
       "\n",
       "    .dataframe tbody tr th {\n",
       "        vertical-align: top;\n",
       "    }\n",
       "\n",
       "    .dataframe thead th {\n",
       "        text-align: right;\n",
       "    }\n",
       "</style>\n",
       "<table border=\"1\" class=\"dataframe\">\n",
       "  <thead>\n",
       "    <tr style=\"text-align: right;\">\n",
       "      <th></th>\n",
       "      <th>Date</th>\n",
       "      <th>Open</th>\n",
       "      <th>High</th>\n",
       "      <th>Low</th>\n",
       "      <th>Close</th>\n",
       "      <th>Adj Close</th>\n",
       "      <th>Volume</th>\n",
       "      <th>Ticks</th>\n",
       "      <th>Rolling_Mean</th>\n",
       "    </tr>\n",
       "  </thead>\n",
       "  <tbody>\n",
       "    <tr>\n",
       "      <td>0</td>\n",
       "      <td>2019-01-25</td>\n",
       "      <td>328.720001</td>\n",
       "      <td>340.000000</td>\n",
       "      <td>328.510010</td>\n",
       "      <td>338.049988</td>\n",
       "      <td>338.049988</td>\n",
       "      <td>11152900</td>\n",
       "      <td>0</td>\n",
       "      <td>NaN</td>\n",
       "    </tr>\n",
       "    <tr>\n",
       "      <td>1</td>\n",
       "      <td>2019-01-28</td>\n",
       "      <td>334.700012</td>\n",
       "      <td>336.299988</td>\n",
       "      <td>328.880005</td>\n",
       "      <td>335.660004</td>\n",
       "      <td>335.660004</td>\n",
       "      <td>8652100</td>\n",
       "      <td>1</td>\n",
       "      <td>NaN</td>\n",
       "    </tr>\n",
       "    <tr>\n",
       "      <td>2</td>\n",
       "      <td>2019-01-29</td>\n",
       "      <td>335.869995</td>\n",
       "      <td>338.220001</td>\n",
       "      <td>328.149994</td>\n",
       "      <td>328.899994</td>\n",
       "      <td>328.899994</td>\n",
       "      <td>7655200</td>\n",
       "      <td>2</td>\n",
       "      <td>NaN</td>\n",
       "    </tr>\n",
       "    <tr>\n",
       "      <td>3</td>\n",
       "      <td>2019-01-30</td>\n",
       "      <td>332.750000</td>\n",
       "      <td>341.779999</td>\n",
       "      <td>330.799988</td>\n",
       "      <td>340.660004</td>\n",
       "      <td>340.660004</td>\n",
       "      <td>9234500</td>\n",
       "      <td>3</td>\n",
       "      <td>NaN</td>\n",
       "    </tr>\n",
       "    <tr>\n",
       "      <td>4</td>\n",
       "      <td>2019-01-31</td>\n",
       "      <td>339.679993</td>\n",
       "      <td>345.989990</td>\n",
       "      <td>338.089996</td>\n",
       "      <td>339.500000</td>\n",
       "      <td>339.500000</td>\n",
       "      <td>8535500</td>\n",
       "      <td>4</td>\n",
       "      <td>NaN</td>\n",
       "    </tr>\n",
       "    <tr>\n",
       "      <td>5</td>\n",
       "      <td>2019-02-01</td>\n",
       "      <td>337.179993</td>\n",
       "      <td>346.839996</td>\n",
       "      <td>336.500000</td>\n",
       "      <td>339.850006</td>\n",
       "      <td>339.850006</td>\n",
       "      <td>9827800</td>\n",
       "      <td>5</td>\n",
       "      <td>NaN</td>\n",
       "    </tr>\n",
       "    <tr>\n",
       "      <td>6</td>\n",
       "      <td>2019-02-04</td>\n",
       "      <td>342.600006</td>\n",
       "      <td>352.000000</td>\n",
       "      <td>341.299988</td>\n",
       "      <td>351.339996</td>\n",
       "      <td>351.339996</td>\n",
       "      <td>9051400</td>\n",
       "      <td>6</td>\n",
       "      <td>NaN</td>\n",
       "    </tr>\n",
       "    <tr>\n",
       "      <td>7</td>\n",
       "      <td>2019-02-05</td>\n",
       "      <td>353.200012</td>\n",
       "      <td>360.000000</td>\n",
       "      <td>352.899994</td>\n",
       "      <td>355.809998</td>\n",
       "      <td>355.809998</td>\n",
       "      <td>9046600</td>\n",
       "      <td>7</td>\n",
       "      <td>NaN</td>\n",
       "    </tr>\n",
       "    <tr>\n",
       "      <td>8</td>\n",
       "      <td>2019-02-06</td>\n",
       "      <td>357.000000</td>\n",
       "      <td>357.040009</td>\n",
       "      <td>347.190002</td>\n",
       "      <td>352.190002</td>\n",
       "      <td>352.190002</td>\n",
       "      <td>6717700</td>\n",
       "      <td>8</td>\n",
       "      <td>NaN</td>\n",
       "    </tr>\n",
       "    <tr>\n",
       "      <td>9</td>\n",
       "      <td>2019-02-07</td>\n",
       "      <td>347.899994</td>\n",
       "      <td>348.750000</td>\n",
       "      <td>339.019989</td>\n",
       "      <td>344.709991</td>\n",
       "      <td>344.709991</td>\n",
       "      <td>7864500</td>\n",
       "      <td>9</td>\n",
       "      <td>NaN</td>\n",
       "    </tr>\n",
       "  </tbody>\n",
       "</table>\n",
       "</div>"
      ],
      "text/plain": [
       "        Date        Open        High         Low       Close   Adj Close  \\\n",
       "0 2019-01-25  328.720001  340.000000  328.510010  338.049988  338.049988   \n",
       "1 2019-01-28  334.700012  336.299988  328.880005  335.660004  335.660004   \n",
       "2 2019-01-29  335.869995  338.220001  328.149994  328.899994  328.899994   \n",
       "3 2019-01-30  332.750000  341.779999  330.799988  340.660004  340.660004   \n",
       "4 2019-01-31  339.679993  345.989990  338.089996  339.500000  339.500000   \n",
       "5 2019-02-01  337.179993  346.839996  336.500000  339.850006  339.850006   \n",
       "6 2019-02-04  342.600006  352.000000  341.299988  351.339996  351.339996   \n",
       "7 2019-02-05  353.200012  360.000000  352.899994  355.809998  355.809998   \n",
       "8 2019-02-06  357.000000  357.040009  347.190002  352.190002  352.190002   \n",
       "9 2019-02-07  347.899994  348.750000  339.019989  344.709991  344.709991   \n",
       "\n",
       "     Volume  Ticks  Rolling_Mean  \n",
       "0  11152900      0           NaN  \n",
       "1   8652100      1           NaN  \n",
       "2   7655200      2           NaN  \n",
       "3   9234500      3           NaN  \n",
       "4   8535500      4           NaN  \n",
       "5   9827800      5           NaN  \n",
       "6   9051400      6           NaN  \n",
       "7   9046600      7           NaN  \n",
       "8   6717700      8           NaN  \n",
       "9   7864500      9           NaN  "
      ]
     },
     "execution_count": 20,
     "metadata": {},
     "output_type": "execute_result"
    }
   ],
   "source": [
    "import datetime as datetime\n",
    "from statsmodels.tsa.arima_model import ARIMA\n",
    "nfx.head(10)"
   ]
  },
  {
   "cell_type": "code",
   "execution_count": 21,
   "metadata": {},
   "outputs": [
    {
     "data": {
      "text/plain": [
       "<bound method NDFrame.head of           Date        Open        High         Low       Close   Adj Close  \\\n",
       "0   2019-01-25  328.720001  340.000000  328.510010  338.049988  338.049988   \n",
       "1   2019-01-28  334.700012  336.299988  328.880005  335.660004  335.660004   \n",
       "2   2019-01-29  335.869995  338.220001  328.149994  328.899994  328.899994   \n",
       "3   2019-01-30  332.750000  341.779999  330.799988  340.660004  340.660004   \n",
       "4   2019-01-31  339.679993  345.989990  338.089996  339.500000  339.500000   \n",
       "..         ...         ...         ...         ...         ...         ...   \n",
       "247 2020-01-17  341.000000  341.570007  337.380005  339.670013  339.670013   \n",
       "248 2020-01-21  340.000000  341.000000  332.589996  338.109985  338.109985   \n",
       "249 2020-01-22  332.549988  336.299988  323.600006  326.000000  326.000000   \n",
       "250 2020-01-23  326.040009  349.880005  325.010010  349.600006  349.600006   \n",
       "251 2020-01-24  348.459991  359.850006  345.880005  353.160004  353.160004   \n",
       "\n",
       "       Volume  Ticks  Rolling_Mean  \n",
       "0    11152900      0           NaN  \n",
       "1     8652100      1           NaN  \n",
       "2     7655200      2           NaN  \n",
       "3     9234500      3           NaN  \n",
       "4     8535500      4           NaN  \n",
       "..        ...    ...           ...  \n",
       "247   6066500    247    299.961875  \n",
       "248  14350300    248    301.015499  \n",
       "249  21730000    249    301.842124  \n",
       "250  18200300    250    302.590374  \n",
       "251  17934400    251    303.646124  \n",
       "\n",
       "[252 rows x 9 columns]>"
      ]
     },
     "execution_count": 21,
     "metadata": {},
     "output_type": "execute_result"
    }
   ],
   "source": [
    "nfx.head"
   ]
  },
  {
   "cell_type": "code",
   "execution_count": 24,
   "metadata": {},
   "outputs": [],
   "source": [
    "from sklearn.linear_model import LinearRegression"
   ]
  },
  {
   "cell_type": "code",
   "execution_count": 25,
   "metadata": {},
   "outputs": [
    {
     "data": {
      "image/png": "[encoded data removed]",
      "text/plain": [
       "<Figure size 432x288 with 1 Axes>"
      ]
     },
     "metadata": {
      "needs_background": "light"
     },
     "output_type": "display_data"
    }
   ],
   "source": [
    "nfx['Ticks'] = range(0,len(nfx.index.values))\n",
    "fig = plt.figure(1)\n",
    "ax1 = fig.add_subplot(111)\n",
    "ax1.set_xlabel('Ticks')\n",
    "ax1.set_ylabel('Openprice')\n",
    "ax1.set_title('original plot')\n",
    "ax1.plot('Ticks','Open', data = nfx );"
   ]
  },
  {
   "cell_type": "code",
   "execution_count": 26,
   "metadata": {},
   "outputs": [
    {
     "data": {
      "text/html": [
       "<div>\n",
       "<style scoped>\n",
       "    .dataframe tbody tr th:only-of-type {\n",
       "        vertical-align: middle;\n",
       "    }\n",
       "\n",
       "    .dataframe tbody tr th {\n",
       "        vertical-align: top;\n",
       "    }\n",
       "\n",
       "    .dataframe thead th {\n",
       "        text-align: right;\n",
       "    }\n",
       "</style>\n",
       "<table border=\"1\" class=\"dataframe\">\n",
       "  <thead>\n",
       "    <tr style=\"text-align: right;\">\n",
       "      <th></th>\n",
       "      <th>Date</th>\n",
       "      <th>Open</th>\n",
       "      <th>High</th>\n",
       "      <th>Low</th>\n",
       "      <th>Close</th>\n",
       "      <th>Adj Close</th>\n",
       "      <th>Volume</th>\n",
       "      <th>Ticks</th>\n",
       "      <th>Rolling_Mean</th>\n",
       "    </tr>\n",
       "  </thead>\n",
       "  <tbody>\n",
       "    <tr>\n",
       "      <td>0</td>\n",
       "      <td>2019-01-25</td>\n",
       "      <td>328.720001</td>\n",
       "      <td>340.000000</td>\n",
       "      <td>328.510010</td>\n",
       "      <td>338.049988</td>\n",
       "      <td>338.049988</td>\n",
       "      <td>11152900</td>\n",
       "      <td>0</td>\n",
       "      <td>NaN</td>\n",
       "    </tr>\n",
       "    <tr>\n",
       "      <td>1</td>\n",
       "      <td>2019-01-28</td>\n",
       "      <td>334.700012</td>\n",
       "      <td>336.299988</td>\n",
       "      <td>328.880005</td>\n",
       "      <td>335.660004</td>\n",
       "      <td>335.660004</td>\n",
       "      <td>8652100</td>\n",
       "      <td>1</td>\n",
       "      <td>NaN</td>\n",
       "    </tr>\n",
       "    <tr>\n",
       "      <td>2</td>\n",
       "      <td>2019-01-29</td>\n",
       "      <td>335.869995</td>\n",
       "      <td>338.220001</td>\n",
       "      <td>328.149994</td>\n",
       "      <td>328.899994</td>\n",
       "      <td>328.899994</td>\n",
       "      <td>7655200</td>\n",
       "      <td>2</td>\n",
       "      <td>NaN</td>\n",
       "    </tr>\n",
       "    <tr>\n",
       "      <td>3</td>\n",
       "      <td>2019-01-30</td>\n",
       "      <td>332.750000</td>\n",
       "      <td>341.779999</td>\n",
       "      <td>330.799988</td>\n",
       "      <td>340.660004</td>\n",
       "      <td>340.660004</td>\n",
       "      <td>9234500</td>\n",
       "      <td>3</td>\n",
       "      <td>NaN</td>\n",
       "    </tr>\n",
       "    <tr>\n",
       "      <td>4</td>\n",
       "      <td>2019-01-31</td>\n",
       "      <td>339.679993</td>\n",
       "      <td>345.989990</td>\n",
       "      <td>338.089996</td>\n",
       "      <td>339.500000</td>\n",
       "      <td>339.500000</td>\n",
       "      <td>8535500</td>\n",
       "      <td>4</td>\n",
       "      <td>NaN</td>\n",
       "    </tr>\n",
       "    <tr>\n",
       "      <td>5</td>\n",
       "      <td>2019-02-01</td>\n",
       "      <td>337.179993</td>\n",
       "      <td>346.839996</td>\n",
       "      <td>336.500000</td>\n",
       "      <td>339.850006</td>\n",
       "      <td>339.850006</td>\n",
       "      <td>9827800</td>\n",
       "      <td>5</td>\n",
       "      <td>NaN</td>\n",
       "    </tr>\n",
       "    <tr>\n",
       "      <td>6</td>\n",
       "      <td>2019-02-04</td>\n",
       "      <td>342.600006</td>\n",
       "      <td>352.000000</td>\n",
       "      <td>341.299988</td>\n",
       "      <td>351.339996</td>\n",
       "      <td>351.339996</td>\n",
       "      <td>9051400</td>\n",
       "      <td>6</td>\n",
       "      <td>NaN</td>\n",
       "    </tr>\n",
       "    <tr>\n",
       "      <td>7</td>\n",
       "      <td>2019-02-05</td>\n",
       "      <td>353.200012</td>\n",
       "      <td>360.000000</td>\n",
       "      <td>352.899994</td>\n",
       "      <td>355.809998</td>\n",
       "      <td>355.809998</td>\n",
       "      <td>9046600</td>\n",
       "      <td>7</td>\n",
       "      <td>NaN</td>\n",
       "    </tr>\n",
       "    <tr>\n",
       "      <td>8</td>\n",
       "      <td>2019-02-06</td>\n",
       "      <td>357.000000</td>\n",
       "      <td>357.040009</td>\n",
       "      <td>347.190002</td>\n",
       "      <td>352.190002</td>\n",
       "      <td>352.190002</td>\n",
       "      <td>6717700</td>\n",
       "      <td>8</td>\n",
       "      <td>NaN</td>\n",
       "    </tr>\n",
       "    <tr>\n",
       "      <td>9</td>\n",
       "      <td>2019-02-07</td>\n",
       "      <td>347.899994</td>\n",
       "      <td>348.750000</td>\n",
       "      <td>339.019989</td>\n",
       "      <td>344.709991</td>\n",
       "      <td>344.709991</td>\n",
       "      <td>7864500</td>\n",
       "      <td>9</td>\n",
       "      <td>NaN</td>\n",
       "    </tr>\n",
       "    <tr>\n",
       "      <td>10</td>\n",
       "      <td>2019-02-08</td>\n",
       "      <td>338.000000</td>\n",
       "      <td>348.000000</td>\n",
       "      <td>338.000000</td>\n",
       "      <td>347.570007</td>\n",
       "      <td>347.570007</td>\n",
       "      <td>7561400</td>\n",
       "      <td>10</td>\n",
       "      <td>NaN</td>\n",
       "    </tr>\n",
       "    <tr>\n",
       "      <td>11</td>\n",
       "      <td>2019-02-11</td>\n",
       "      <td>350.000000</td>\n",
       "      <td>352.869995</td>\n",
       "      <td>344.809998</td>\n",
       "      <td>345.730011</td>\n",
       "      <td>345.730011</td>\n",
       "      <td>5454900</td>\n",
       "      <td>11</td>\n",
       "      <td>NaN</td>\n",
       "    </tr>\n",
       "    <tr>\n",
       "      <td>12</td>\n",
       "      <td>2019-02-12</td>\n",
       "      <td>348.089996</td>\n",
       "      <td>360.000000</td>\n",
       "      <td>346.519989</td>\n",
       "      <td>359.970001</td>\n",
       "      <td>359.970001</td>\n",
       "      <td>10429400</td>\n",
       "      <td>12</td>\n",
       "      <td>NaN</td>\n",
       "    </tr>\n",
       "    <tr>\n",
       "      <td>13</td>\n",
       "      <td>2019-02-13</td>\n",
       "      <td>357.299988</td>\n",
       "      <td>359.600006</td>\n",
       "      <td>350.279999</td>\n",
       "      <td>351.769989</td>\n",
       "      <td>351.769989</td>\n",
       "      <td>10559100</td>\n",
       "      <td>13</td>\n",
       "      <td>NaN</td>\n",
       "    </tr>\n",
       "    <tr>\n",
       "      <td>14</td>\n",
       "      <td>2019-02-14</td>\n",
       "      <td>351.750000</td>\n",
       "      <td>360.450012</td>\n",
       "      <td>348.329987</td>\n",
       "      <td>359.070007</td>\n",
       "      <td>359.070007</td>\n",
       "      <td>9295300</td>\n",
       "      <td>14</td>\n",
       "      <td>NaN</td>\n",
       "    </tr>\n",
       "    <tr>\n",
       "      <td>15</td>\n",
       "      <td>2019-02-15</td>\n",
       "      <td>358.470001</td>\n",
       "      <td>364.399994</td>\n",
       "      <td>355.500000</td>\n",
       "      <td>356.869995</td>\n",
       "      <td>356.869995</td>\n",
       "      <td>9230000</td>\n",
       "      <td>15</td>\n",
       "      <td>NaN</td>\n",
       "    </tr>\n",
       "    <tr>\n",
       "      <td>16</td>\n",
       "      <td>2019-02-19</td>\n",
       "      <td>355.799988</td>\n",
       "      <td>365.000000</td>\n",
       "      <td>355.320007</td>\n",
       "      <td>361.920013</td>\n",
       "      <td>361.920013</td>\n",
       "      <td>7396600</td>\n",
       "      <td>16</td>\n",
       "      <td>NaN</td>\n",
       "    </tr>\n",
       "    <tr>\n",
       "      <td>17</td>\n",
       "      <td>2019-02-20</td>\n",
       "      <td>364.850006</td>\n",
       "      <td>366.709991</td>\n",
       "      <td>356.700012</td>\n",
       "      <td>359.910004</td>\n",
       "      <td>359.910004</td>\n",
       "      <td>8110700</td>\n",
       "      <td>17</td>\n",
       "      <td>NaN</td>\n",
       "    </tr>\n",
       "    <tr>\n",
       "      <td>18</td>\n",
       "      <td>2019-02-21</td>\n",
       "      <td>360.029999</td>\n",
       "      <td>362.850006</td>\n",
       "      <td>353.880005</td>\n",
       "      <td>356.970001</td>\n",
       "      <td>356.970001</td>\n",
       "      <td>6227900</td>\n",
       "      <td>18</td>\n",
       "      <td>NaN</td>\n",
       "    </tr>\n",
       "    <tr>\n",
       "      <td>19</td>\n",
       "      <td>2019-02-22</td>\n",
       "      <td>360.339996</td>\n",
       "      <td>366.130005</td>\n",
       "      <td>360.049988</td>\n",
       "      <td>363.019989</td>\n",
       "      <td>363.019989</td>\n",
       "      <td>7088200</td>\n",
       "      <td>19</td>\n",
       "      <td>NaN</td>\n",
       "    </tr>\n",
       "  </tbody>\n",
       "</table>\n",
       "</div>"
      ],
      "text/plain": [
       "         Date        Open        High         Low       Close   Adj Close  \\\n",
       "0  2019-01-25  328.720001  340.000000  328.510010  338.049988  338.049988   \n",
       "1  2019-01-28  334.700012  336.299988  328.880005  335.660004  335.660004   \n",
       "2  2019-01-29  335.869995  338.220001  328.149994  328.899994  328.899994   \n",
       "3  2019-01-30  332.750000  341.779999  330.799988  340.660004  340.660004   \n",
       "4  2019-01-31  339.679993  345.989990  338.089996  339.500000  339.500000   \n",
       "5  2019-02-01  337.179993  346.839996  336.500000  339.850006  339.850006   \n",
       "6  2019-02-04  342.600006  352.000000  341.299988  351.339996  351.339996   \n",
       "7  2019-02-05  353.200012  360.000000  352.899994  355.809998  355.809998   \n",
       "8  2019-02-06  357.000000  357.040009  347.190002  352.190002  352.190002   \n",
       "9  2019-02-07  347.899994  348.750000  339.019989  344.709991  344.709991   \n",
       "10 2019-02-08  338.000000  348.000000  338.000000  347.570007  347.570007   \n",
       "11 2019-02-11  350.000000  352.869995  344.809998  345.730011  345.730011   \n",
       "12 2019-02-12  348.089996  360.000000  346.519989  359.970001  359.970001   \n",
       "13 2019-02-13  357.299988  359.600006  350.279999  351.769989  351.769989   \n",
       "14 2019-02-14  351.750000  360.450012  348.329987  359.070007  359.070007   \n",
       "15 2019-02-15  358.470001  364.399994  355.500000  356.869995  356.869995   \n",
       "16 2019-02-19  355.799988  365.000000  355.320007  361.920013  361.920013   \n",
       "17 2019-02-20  364.850006  366.709991  356.700012  359.910004  359.910004   \n",
       "18 2019-02-21  360.029999  362.850006  353.880005  356.970001  356.970001   \n",
       "19 2019-02-22  360.339996  366.130005  360.049988  363.019989  363.019989   \n",
       "\n",
       "      Volume  Ticks  Rolling_Mean  \n",
       "0   11152900      0           NaN  \n",
       "1    8652100      1           NaN  \n",
       "2    7655200      2           NaN  \n",
       "3    9234500      3           NaN  \n",
       "4    8535500      4           NaN  \n",
       "5    9827800      5           NaN  \n",
       "6    9051400      6           NaN  \n",
       "7    9046600      7           NaN  \n",
       "8    6717700      8           NaN  \n",
       "9    7864500      9           NaN  \n",
       "10   7561400     10           NaN  \n",
       "11   5454900     11           NaN  \n",
       "12  10429400     12           NaN  \n",
       "13  10559100     13           NaN  \n",
       "14   9295300     14           NaN  \n",
       "15   9230000     15           NaN  \n",
       "16   7396600     16           NaN  \n",
       "17   8110700     17           NaN  \n",
       "18   6227900     18           NaN  \n",
       "19   7088200     19           NaN  "
      ]
     },
     "execution_count": 26,
     "metadata": {},
     "output_type": "execute_result"
    }
   ],
   "source": [
    "nfx['Rolling_Mean'] = nfx['Open'].rolling(window = 80).mean()\n",
    "nfx.head(20)"
   ]
  },
  {
   "cell_type": "code",
   "execution_count": 27,
   "metadata": {},
   "outputs": [
    {
     "data": {
      "image/png": "[encoded data removed]",
      "text/plain": [
       "<Figure size 1080x360 with 2 Axes>"
      ]
     },
     "metadata": {
      "needs_background": "light"
     },
     "output_type": "display_data"
    }
   ],
   "source": [
    "fig, axes = plt.subplots(nrows=1, ncols= 2, figsize = (15,5));\n",
    "axes[0].plot('Ticks','Open', data= nfx);\n",
    "axes[0].set_title('Original');\n",
    "axes[1].plot('Ticks', 'Rolling_Mean', data = nfx);\n",
    "axes[1].set_title('Smoothed (Rolling_Mean)');"
   ]
  },
  {
   "cell_type": "code",
   "execution_count": 28,
   "metadata": {},
   "outputs": [],
   "source": [
    "X = nfx['Ticks']\n",
    "Y = nfx['Open']\n",
    "X.shape\n",
    "Y.shape\n",
    "X_matrix = X.values.reshape(-1, 1)\n",
    "Y_matrix = Y.values.reshape(-1, 1)\n"
   ]
  },
  {
   "cell_type": "code",
   "execution_count": 29,
   "metadata": {},
   "outputs": [
    {
     "data": {
      "text/plain": [
       "LinearRegression(copy_X=True, fit_intercept=True, n_jobs=None, normalize=False)"
      ]
     },
     "execution_count": 29,
     "metadata": {},
     "output_type": "execute_result"
    }
   ],
   "source": [
    "reg = LinearRegression()\n",
    "reg.fit(X_matrix,Y_matrix)"
   ]
  },
  {
   "cell_type": "code",
   "execution_count": 30,
   "metadata": {},
   "outputs": [
    {
     "data": {
      "text/plain": [
       "0.41717988741711254"
      ]
     },
     "execution_count": 30,
     "metadata": {},
     "output_type": "execute_result"
    }
   ],
   "source": [
    "reg.score(X_matrix, Y_matrix)"
   ]
  },
  {
   "cell_type": "code",
   "execution_count": 31,
   "metadata": {},
   "outputs": [
    {
     "data": {
      "text/plain": [
       "array([[-0.3022505]])"
      ]
     },
     "execution_count": 31,
     "metadata": {},
     "output_type": "execute_result"
    }
   ],
   "source": [
    "reg.coef_"
   ]
  },
  {
   "cell_type": "code",
   "execution_count": 32,
   "metadata": {},
   "outputs": [
    {
     "data": {
      "text/plain": [
       "array([367.56073185])"
      ]
     },
     "execution_count": 32,
     "metadata": {},
     "output_type": "execute_result"
    }
   ],
   "source": [
    "reg.intercept_"
   ]
  },
  {
   "cell_type": "code",
   "execution_count": 19,
   "metadata": {},
   "outputs": [
    {
     "ename": "TypeError",
     "evalue": "predict() takes 2 positional arguments but 3 were given",
     "output_type": "error",
     "traceback": [
      "\u001b[1;31m---------------------------------------------------------------------------\u001b[0m",
      "\u001b[1;31mTypeError\u001b[0m                                 Traceback (most recent call last)",
      "\u001b[1;32m<ipython-input-19-0607008995ae>\u001b[0m in \u001b[0;36m<module>\u001b[1;34m\u001b[0m\n\u001b[1;32m----> 1\u001b[1;33m \u001b[0mreg\u001b[0m\u001b[1;33m.\u001b[0m\u001b[0mpredict\u001b[0m\u001b[1;33m(\u001b[0m\u001b[1;36m157\u001b[0m\u001b[1;33m,\u001b[0m\u001b[1;36m1\u001b[0m\u001b[1;33m)\u001b[0m\u001b[1;33m\u001b[0m\u001b[1;33m\u001b[0m\u001b[0m\n\u001b[0m",
      "\u001b[1;31mTypeError\u001b[0m: predict() takes 2 positional arguments but 3 were given"
     ]
    }
   ],
   "source": []
  },
  {
   "cell_type": "code",
   "execution_count": null,
   "metadata": {},
   "outputs": [],
   "source": [
    "nfx.size"
   ]
  },
  {
   "cell_type": "code",
   "execution_count": null,
   "metadata": {},
   "outputs": [],
   "source": [
    "train = Y[0:50]\n",
    "test = Y[50:75]\n",
    "predictions = []\n",
    "train"
   ]
  },
  {
   "cell_type": "code",
   "execution_count": null,
   "metadata": {},
   "outputs": [],
   "source": [
    "from statsmodels.tsa.ar_model import AR\n",
    "from sklearn.metrics import mean_squared_error\n"
   ]
  },
  {
   "cell_type": "code",
   "execution_count": null,
   "metadata": {},
   "outputs": [],
   "source": [
    "model_ar = AR(train)\n",
    "model_ar_fit = model_ar.fit()"
   ]
  },
  {
   "cell_type": "code",
   "execution_count": null,
   "metadata": {},
   "outputs": [],
   "source": [
    "predictions = model_ar_fit.predict(start=50,end=75)"
   ]
  },
  {
   "cell_type": "code",
   "execution_count": null,
   "metadata": {},
   "outputs": [],
   "source": [
    "plt.plot(test)\n",
    "plt.plot(predictions, color= 'red')"
   ]
  },
  {
   "cell_type": "code",
   "execution_count": null,
   "metadata": {},
   "outputs": [],
   "source": []
  },
  {
   "cell_type": "code",
   "execution_count": null,
   "metadata": {},
   "outputs": [],
   "source": []
  },
  {
   "cell_type": "code",
   "execution_count": null,
   "metadata": {},
   "outputs": [],
   "source": []
  },
  {
   "cell_type": "code",
   "execution_count": null,
   "metadata": {},
   "outputs": [],
   "source": []
  },
  {
   "cell_type": "code",
   "execution_count": null,
   "metadata": {},
   "outputs": [],
   "source": []
  },
  {
   "cell_type": "code",
   "execution_count": null,
   "metadata": {},
   "outputs": [],
   "source": []
  },
  {
   "cell_type": "code",
   "execution_count": null,
   "metadata": {},
   "outputs": [],
   "source": []
  },
  {
   "cell_type": "code",
   "execution_count": null,
   "metadata": {},
   "outputs": [],
   "source": []
  },
  {
   "cell_type": "code",
   "execution_count": null,
   "metadata": {},
   "outputs": [],
   "source": []
  },
  {
   "cell_type": "code",
   "execution_count": null,
   "metadata": {},
   "outputs": [],
   "source": []
  },
  {
   "cell_type": "code",
   "execution_count": null,
   "metadata": {},
   "outputs": [],
   "source": []
  },
  {
   "cell_type": "code",
   "execution_count": null,
   "metadata": {},
   "outputs": [],
   "source": []
  },
  {
   "cell_type": "code",
   "execution_count": null,
   "metadata": {},
   "outputs": [],
   "source": []
  },
  {
   "cell_type": "code",
   "execution_count": null,
   "metadata": {},
   "outputs": [],
   "source": []
  },
  {
   "cell_type": "code",
   "execution_count": null,
   "metadata": {},
   "outputs": [],
   "source": []
  }
 ],
 "metadata": {
  "kernelspec": {
   "display_name": "Python 3",
   "language": "python",
   "name": "python3"
  },
  "language_info": {
   "codemirror_mode": {
    "name": "ipython",
    "version": 3
   },
   "file_extension": ".py",
   "mimetype": "text/x-python",
   "name": "python",
   "nbconvert_exporter": "python",
   "pygments_lexer": "ipython3",
   "version": "3.7.4"
  }
 },
 "nbformat": 4,
 "nbformat_minor": 2
}
